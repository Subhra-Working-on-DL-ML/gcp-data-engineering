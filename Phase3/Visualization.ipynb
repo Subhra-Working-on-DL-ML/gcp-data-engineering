{
  "nbformat": 4,
  "nbformat_minor": 0,
  "metadata": {
    "colab": {
      "cell_execution_strategy": "setup",
      "provenance": []
    },
    "kernelspec": {
      "name": "python3",
      "display_name": "Python 3"
    },
    "language_info": {
      "name": "python"
    },
    "widgets": {
      "application/vnd.jupyter.widget-state+json": {
        "b8f6553b4b0640049884846a078a28e2": {
          "model_module": "@jupyter-widgets/controls",
          "model_name": "HBoxModel",
          "model_module_version": "1.5.0",
          "state": {
            "_dom_classes": [],
            "_model_module": "@jupyter-widgets/controls",
            "_model_module_version": "1.5.0",
            "_model_name": "HBoxModel",
            "_view_count": null,
            "_view_module": "@jupyter-widgets/controls",
            "_view_module_version": "1.5.0",
            "_view_name": "HBoxView",
            "box_style": "",
            "children": [
              "IPY_MODEL_e0c6546464b041ceb19c98efce4e836a",
              "IPY_MODEL_a11093d6574b4b3e8b899c48635636ac",
              "IPY_MODEL_16a3080115be4007834fa3853a083550"
            ],
            "layout": "IPY_MODEL_01b1e3c7543f49259a1a370e0f4e4a9b"
          }
        },
        "e0c6546464b041ceb19c98efce4e836a": {
          "model_module": "@jupyter-widgets/controls",
          "model_name": "HTMLModel",
          "model_module_version": "1.5.0",
          "state": {
            "_dom_classes": [],
            "_model_module": "@jupyter-widgets/controls",
            "_model_module_version": "1.5.0",
            "_model_name": "HTMLModel",
            "_view_count": null,
            "_view_module": "@jupyter-widgets/controls",
            "_view_module_version": "1.5.0",
            "_view_name": "HTMLView",
            "description": "",
            "description_tooltip": null,
            "layout": "IPY_MODEL_c10ebc8dc0884f9490dd8eeba15264ae",
            "placeholder": "​",
            "style": "IPY_MODEL_162cfaeb58ae453e8e2e966bd34c3ea6",
            "value": "Job ID a593fdfd-2b1a-4dad-bcb9-e9674e3269a7 successfully executed: 100%"
          }
        },
        "a11093d6574b4b3e8b899c48635636ac": {
          "model_module": "@jupyter-widgets/controls",
          "model_name": "FloatProgressModel",
          "model_module_version": "1.5.0",
          "state": {
            "_dom_classes": [],
            "_model_module": "@jupyter-widgets/controls",
            "_model_module_version": "1.5.0",
            "_model_name": "FloatProgressModel",
            "_view_count": null,
            "_view_module": "@jupyter-widgets/controls",
            "_view_module_version": "1.5.0",
            "_view_name": "ProgressView",
            "bar_style": "success",
            "description": "",
            "description_tooltip": null,
            "layout": "IPY_MODEL_522d51eb9a314224b7a215c3be08e33b",
            "max": 1,
            "min": 0,
            "orientation": "horizontal",
            "style": "IPY_MODEL_7fe5d7c6a3c6464c8d36e4967349dd83",
            "value": 1
          }
        },
        "16a3080115be4007834fa3853a083550": {
          "model_module": "@jupyter-widgets/controls",
          "model_name": "HTMLModel",
          "model_module_version": "1.5.0",
          "state": {
            "_dom_classes": [],
            "_model_module": "@jupyter-widgets/controls",
            "_model_module_version": "1.5.0",
            "_model_name": "HTMLModel",
            "_view_count": null,
            "_view_module": "@jupyter-widgets/controls",
            "_view_module_version": "1.5.0",
            "_view_name": "HTMLView",
            "description": "",
            "description_tooltip": null,
            "layout": "IPY_MODEL_4778f0f8a2f74b6c9cbf89a19a924e8b",
            "placeholder": "​",
            "style": "IPY_MODEL_0754d364da8a49e290fd67102d741915",
            "value": ""
          }
        },
        "01b1e3c7543f49259a1a370e0f4e4a9b": {
          "model_module": "@jupyter-widgets/base",
          "model_name": "LayoutModel",
          "model_module_version": "1.2.0",
          "state": {
            "_model_module": "@jupyter-widgets/base",
            "_model_module_version": "1.2.0",
            "_model_name": "LayoutModel",
            "_view_count": null,
            "_view_module": "@jupyter-widgets/base",
            "_view_module_version": "1.2.0",
            "_view_name": "LayoutView",
            "align_content": null,
            "align_items": null,
            "align_self": null,
            "border": null,
            "bottom": null,
            "display": null,
            "flex": null,
            "flex_flow": null,
            "grid_area": null,
            "grid_auto_columns": null,
            "grid_auto_flow": null,
            "grid_auto_rows": null,
            "grid_column": null,
            "grid_gap": null,
            "grid_row": null,
            "grid_template_areas": null,
            "grid_template_columns": null,
            "grid_template_rows": null,
            "height": null,
            "justify_content": null,
            "justify_items": null,
            "left": null,
            "margin": null,
            "max_height": null,
            "max_width": null,
            "min_height": null,
            "min_width": null,
            "object_fit": null,
            "object_position": null,
            "order": null,
            "overflow": null,
            "overflow_x": null,
            "overflow_y": null,
            "padding": null,
            "right": null,
            "top": null,
            "visibility": null,
            "width": null
          }
        },
        "c10ebc8dc0884f9490dd8eeba15264ae": {
          "model_module": "@jupyter-widgets/base",
          "model_name": "LayoutModel",
          "model_module_version": "1.2.0",
          "state": {
            "_model_module": "@jupyter-widgets/base",
            "_model_module_version": "1.2.0",
            "_model_name": "LayoutModel",
            "_view_count": null,
            "_view_module": "@jupyter-widgets/base",
            "_view_module_version": "1.2.0",
            "_view_name": "LayoutView",
            "align_content": null,
            "align_items": null,
            "align_self": null,
            "border": null,
            "bottom": null,
            "display": null,
            "flex": null,
            "flex_flow": null,
            "grid_area": null,
            "grid_auto_columns": null,
            "grid_auto_flow": null,
            "grid_auto_rows": null,
            "grid_column": null,
            "grid_gap": null,
            "grid_row": null,
            "grid_template_areas": null,
            "grid_template_columns": null,
            "grid_template_rows": null,
            "height": null,
            "justify_content": null,
            "justify_items": null,
            "left": null,
            "margin": null,
            "max_height": null,
            "max_width": null,
            "min_height": null,
            "min_width": null,
            "object_fit": null,
            "object_position": null,
            "order": null,
            "overflow": null,
            "overflow_x": null,
            "overflow_y": null,
            "padding": null,
            "right": null,
            "top": null,
            "visibility": null,
            "width": null
          }
        },
        "162cfaeb58ae453e8e2e966bd34c3ea6": {
          "model_module": "@jupyter-widgets/controls",
          "model_name": "DescriptionStyleModel",
          "model_module_version": "1.5.0",
          "state": {
            "_model_module": "@jupyter-widgets/controls",
            "_model_module_version": "1.5.0",
            "_model_name": "DescriptionStyleModel",
            "_view_count": null,
            "_view_module": "@jupyter-widgets/base",
            "_view_module_version": "1.2.0",
            "_view_name": "StyleView",
            "description_width": ""
          }
        },
        "522d51eb9a314224b7a215c3be08e33b": {
          "model_module": "@jupyter-widgets/base",
          "model_name": "LayoutModel",
          "model_module_version": "1.2.0",
          "state": {
            "_model_module": "@jupyter-widgets/base",
            "_model_module_version": "1.2.0",
            "_model_name": "LayoutModel",
            "_view_count": null,
            "_view_module": "@jupyter-widgets/base",
            "_view_module_version": "1.2.0",
            "_view_name": "LayoutView",
            "align_content": null,
            "align_items": null,
            "align_self": null,
            "border": null,
            "bottom": null,
            "display": null,
            "flex": null,
            "flex_flow": null,
            "grid_area": null,
            "grid_auto_columns": null,
            "grid_auto_flow": null,
            "grid_auto_rows": null,
            "grid_column": null,
            "grid_gap": null,
            "grid_row": null,
            "grid_template_areas": null,
            "grid_template_columns": null,
            "grid_template_rows": null,
            "height": null,
            "justify_content": null,
            "justify_items": null,
            "left": null,
            "margin": null,
            "max_height": null,
            "max_width": null,
            "min_height": null,
            "min_width": null,
            "object_fit": null,
            "object_position": null,
            "order": null,
            "overflow": null,
            "overflow_x": null,
            "overflow_y": null,
            "padding": null,
            "right": null,
            "top": null,
            "visibility": null,
            "width": null
          }
        },
        "7fe5d7c6a3c6464c8d36e4967349dd83": {
          "model_module": "@jupyter-widgets/controls",
          "model_name": "ProgressStyleModel",
          "model_module_version": "1.5.0",
          "state": {
            "_model_module": "@jupyter-widgets/controls",
            "_model_module_version": "1.5.0",
            "_model_name": "ProgressStyleModel",
            "_view_count": null,
            "_view_module": "@jupyter-widgets/base",
            "_view_module_version": "1.2.0",
            "_view_name": "StyleView",
            "bar_color": null,
            "description_width": ""
          }
        },
        "4778f0f8a2f74b6c9cbf89a19a924e8b": {
          "model_module": "@jupyter-widgets/base",
          "model_name": "LayoutModel",
          "model_module_version": "1.2.0",
          "state": {
            "_model_module": "@jupyter-widgets/base",
            "_model_module_version": "1.2.0",
            "_model_name": "LayoutModel",
            "_view_count": null,
            "_view_module": "@jupyter-widgets/base",
            "_view_module_version": "1.2.0",
            "_view_name": "LayoutView",
            "align_content": null,
            "align_items": null,
            "align_self": null,
            "border": null,
            "bottom": null,
            "display": null,
            "flex": null,
            "flex_flow": null,
            "grid_area": null,
            "grid_auto_columns": null,
            "grid_auto_flow": null,
            "grid_auto_rows": null,
            "grid_column": null,
            "grid_gap": null,
            "grid_row": null,
            "grid_template_areas": null,
            "grid_template_columns": null,
            "grid_template_rows": null,
            "height": null,
            "justify_content": null,
            "justify_items": null,
            "left": null,
            "margin": null,
            "max_height": null,
            "max_width": null,
            "min_height": null,
            "min_width": null,
            "object_fit": null,
            "object_position": null,
            "order": null,
            "overflow": null,
            "overflow_x": null,
            "overflow_y": null,
            "padding": null,
            "right": null,
            "top": null,
            "visibility": null,
            "width": null
          }
        },
        "0754d364da8a49e290fd67102d741915": {
          "model_module": "@jupyter-widgets/controls",
          "model_name": "DescriptionStyleModel",
          "model_module_version": "1.5.0",
          "state": {
            "_model_module": "@jupyter-widgets/controls",
            "_model_module_version": "1.5.0",
            "_model_name": "DescriptionStyleModel",
            "_view_count": null,
            "_view_module": "@jupyter-widgets/base",
            "_view_module_version": "1.2.0",
            "_view_name": "StyleView",
            "description_width": ""
          }
        },
        "a324e0f513a3491c8fa3fd0e9db7728f": {
          "model_module": "@jupyter-widgets/controls",
          "model_name": "HBoxModel",
          "model_module_version": "1.5.0",
          "state": {
            "_dom_classes": [],
            "_model_module": "@jupyter-widgets/controls",
            "_model_module_version": "1.5.0",
            "_model_name": "HBoxModel",
            "_view_count": null,
            "_view_module": "@jupyter-widgets/controls",
            "_view_module_version": "1.5.0",
            "_view_name": "HBoxView",
            "box_style": "",
            "children": [
              "IPY_MODEL_8791242ff42848d6b47af1824da6793c",
              "IPY_MODEL_ba7d29cb5cde4fe7adb9dccdc36fd18a",
              "IPY_MODEL_325234d850854d12bed09dea5a01dc2b"
            ],
            "layout": "IPY_MODEL_11c0af0919be4d818a17bac4171c4b20"
          }
        },
        "8791242ff42848d6b47af1824da6793c": {
          "model_module": "@jupyter-widgets/controls",
          "model_name": "HTMLModel",
          "model_module_version": "1.5.0",
          "state": {
            "_dom_classes": [],
            "_model_module": "@jupyter-widgets/controls",
            "_model_module_version": "1.5.0",
            "_model_name": "HTMLModel",
            "_view_count": null,
            "_view_module": "@jupyter-widgets/controls",
            "_view_module_version": "1.5.0",
            "_view_name": "HTMLView",
            "description": "",
            "description_tooltip": null,
            "layout": "IPY_MODEL_6149d8ffd4a448829de14699d0dea961",
            "placeholder": "​",
            "style": "IPY_MODEL_d1cd86fb8de24f6c984cfd42260b803c",
            "value": "Downloading: 100%"
          }
        },
        "ba7d29cb5cde4fe7adb9dccdc36fd18a": {
          "model_module": "@jupyter-widgets/controls",
          "model_name": "FloatProgressModel",
          "model_module_version": "1.5.0",
          "state": {
            "_dom_classes": [],
            "_model_module": "@jupyter-widgets/controls",
            "_model_module_version": "1.5.0",
            "_model_name": "FloatProgressModel",
            "_view_count": null,
            "_view_module": "@jupyter-widgets/controls",
            "_view_module_version": "1.5.0",
            "_view_name": "ProgressView",
            "bar_style": "success",
            "description": "",
            "description_tooltip": null,
            "layout": "IPY_MODEL_74e923aba9864c9ba549aed6bcee7c18",
            "max": 1774,
            "min": 0,
            "orientation": "horizontal",
            "style": "IPY_MODEL_8261afe85f0d47bebd6b4cace4e1ca49",
            "value": 1774
          }
        },
        "325234d850854d12bed09dea5a01dc2b": {
          "model_module": "@jupyter-widgets/controls",
          "model_name": "HTMLModel",
          "model_module_version": "1.5.0",
          "state": {
            "_dom_classes": [],
            "_model_module": "@jupyter-widgets/controls",
            "_model_module_version": "1.5.0",
            "_model_name": "HTMLModel",
            "_view_count": null,
            "_view_module": "@jupyter-widgets/controls",
            "_view_module_version": "1.5.0",
            "_view_name": "HTMLView",
            "description": "",
            "description_tooltip": null,
            "layout": "IPY_MODEL_d2543e583e76426a9168e3ba8e470c4a",
            "placeholder": "​",
            "style": "IPY_MODEL_3d447267b5b94bac95e1f3fde939869c",
            "value": ""
          }
        },
        "11c0af0919be4d818a17bac4171c4b20": {
          "model_module": "@jupyter-widgets/base",
          "model_name": "LayoutModel",
          "model_module_version": "1.2.0",
          "state": {
            "_model_module": "@jupyter-widgets/base",
            "_model_module_version": "1.2.0",
            "_model_name": "LayoutModel",
            "_view_count": null,
            "_view_module": "@jupyter-widgets/base",
            "_view_module_version": "1.2.0",
            "_view_name": "LayoutView",
            "align_content": null,
            "align_items": null,
            "align_self": null,
            "border": null,
            "bottom": null,
            "display": null,
            "flex": null,
            "flex_flow": null,
            "grid_area": null,
            "grid_auto_columns": null,
            "grid_auto_flow": null,
            "grid_auto_rows": null,
            "grid_column": null,
            "grid_gap": null,
            "grid_row": null,
            "grid_template_areas": null,
            "grid_template_columns": null,
            "grid_template_rows": null,
            "height": null,
            "justify_content": null,
            "justify_items": null,
            "left": null,
            "margin": null,
            "max_height": null,
            "max_width": null,
            "min_height": null,
            "min_width": null,
            "object_fit": null,
            "object_position": null,
            "order": null,
            "overflow": null,
            "overflow_x": null,
            "overflow_y": null,
            "padding": null,
            "right": null,
            "top": null,
            "visibility": null,
            "width": null
          }
        },
        "6149d8ffd4a448829de14699d0dea961": {
          "model_module": "@jupyter-widgets/base",
          "model_name": "LayoutModel",
          "model_module_version": "1.2.0",
          "state": {
            "_model_module": "@jupyter-widgets/base",
            "_model_module_version": "1.2.0",
            "_model_name": "LayoutModel",
            "_view_count": null,
            "_view_module": "@jupyter-widgets/base",
            "_view_module_version": "1.2.0",
            "_view_name": "LayoutView",
            "align_content": null,
            "align_items": null,
            "align_self": null,
            "border": null,
            "bottom": null,
            "display": null,
            "flex": null,
            "flex_flow": null,
            "grid_area": null,
            "grid_auto_columns": null,
            "grid_auto_flow": null,
            "grid_auto_rows": null,
            "grid_column": null,
            "grid_gap": null,
            "grid_row": null,
            "grid_template_areas": null,
            "grid_template_columns": null,
            "grid_template_rows": null,
            "height": null,
            "justify_content": null,
            "justify_items": null,
            "left": null,
            "margin": null,
            "max_height": null,
            "max_width": null,
            "min_height": null,
            "min_width": null,
            "object_fit": null,
            "object_position": null,
            "order": null,
            "overflow": null,
            "overflow_x": null,
            "overflow_y": null,
            "padding": null,
            "right": null,
            "top": null,
            "visibility": null,
            "width": null
          }
        },
        "d1cd86fb8de24f6c984cfd42260b803c": {
          "model_module": "@jupyter-widgets/controls",
          "model_name": "DescriptionStyleModel",
          "model_module_version": "1.5.0",
          "state": {
            "_model_module": "@jupyter-widgets/controls",
            "_model_module_version": "1.5.0",
            "_model_name": "DescriptionStyleModel",
            "_view_count": null,
            "_view_module": "@jupyter-widgets/base",
            "_view_module_version": "1.2.0",
            "_view_name": "StyleView",
            "description_width": ""
          }
        },
        "74e923aba9864c9ba549aed6bcee7c18": {
          "model_module": "@jupyter-widgets/base",
          "model_name": "LayoutModel",
          "model_module_version": "1.2.0",
          "state": {
            "_model_module": "@jupyter-widgets/base",
            "_model_module_version": "1.2.0",
            "_model_name": "LayoutModel",
            "_view_count": null,
            "_view_module": "@jupyter-widgets/base",
            "_view_module_version": "1.2.0",
            "_view_name": "LayoutView",
            "align_content": null,
            "align_items": null,
            "align_self": null,
            "border": null,
            "bottom": null,
            "display": null,
            "flex": null,
            "flex_flow": null,
            "grid_area": null,
            "grid_auto_columns": null,
            "grid_auto_flow": null,
            "grid_auto_rows": null,
            "grid_column": null,
            "grid_gap": null,
            "grid_row": null,
            "grid_template_areas": null,
            "grid_template_columns": null,
            "grid_template_rows": null,
            "height": null,
            "justify_content": null,
            "justify_items": null,
            "left": null,
            "margin": null,
            "max_height": null,
            "max_width": null,
            "min_height": null,
            "min_width": null,
            "object_fit": null,
            "object_position": null,
            "order": null,
            "overflow": null,
            "overflow_x": null,
            "overflow_y": null,
            "padding": null,
            "right": null,
            "top": null,
            "visibility": null,
            "width": null
          }
        },
        "8261afe85f0d47bebd6b4cace4e1ca49": {
          "model_module": "@jupyter-widgets/controls",
          "model_name": "ProgressStyleModel",
          "model_module_version": "1.5.0",
          "state": {
            "_model_module": "@jupyter-widgets/controls",
            "_model_module_version": "1.5.0",
            "_model_name": "ProgressStyleModel",
            "_view_count": null,
            "_view_module": "@jupyter-widgets/base",
            "_view_module_version": "1.2.0",
            "_view_name": "StyleView",
            "bar_color": null,
            "description_width": ""
          }
        },
        "d2543e583e76426a9168e3ba8e470c4a": {
          "model_module": "@jupyter-widgets/base",
          "model_name": "LayoutModel",
          "model_module_version": "1.2.0",
          "state": {
            "_model_module": "@jupyter-widgets/base",
            "_model_module_version": "1.2.0",
            "_model_name": "LayoutModel",
            "_view_count": null,
            "_view_module": "@jupyter-widgets/base",
            "_view_module_version": "1.2.0",
            "_view_name": "LayoutView",
            "align_content": null,
            "align_items": null,
            "align_self": null,
            "border": null,
            "bottom": null,
            "display": null,
            "flex": null,
            "flex_flow": null,
            "grid_area": null,
            "grid_auto_columns": null,
            "grid_auto_flow": null,
            "grid_auto_rows": null,
            "grid_column": null,
            "grid_gap": null,
            "grid_row": null,
            "grid_template_areas": null,
            "grid_template_columns": null,
            "grid_template_rows": null,
            "height": null,
            "justify_content": null,
            "justify_items": null,
            "left": null,
            "margin": null,
            "max_height": null,
            "max_width": null,
            "min_height": null,
            "min_width": null,
            "object_fit": null,
            "object_position": null,
            "order": null,
            "overflow": null,
            "overflow_x": null,
            "overflow_y": null,
            "padding": null,
            "right": null,
            "top": null,
            "visibility": null,
            "width": null
          }
        },
        "3d447267b5b94bac95e1f3fde939869c": {
          "model_module": "@jupyter-widgets/controls",
          "model_name": "DescriptionStyleModel",
          "model_module_version": "1.5.0",
          "state": {
            "_model_module": "@jupyter-widgets/controls",
            "_model_module_version": "1.5.0",
            "_model_name": "DescriptionStyleModel",
            "_view_count": null,
            "_view_module": "@jupyter-widgets/base",
            "_view_module_version": "1.2.0",
            "_view_name": "StyleView",
            "description_width": ""
          }
        },
        "7ef457f77b2b4f70939856b4d23000ed": {
          "model_module": "@jupyter-widgets/controls",
          "model_name": "HBoxModel",
          "model_module_version": "1.5.0",
          "state": {
            "_dom_classes": [],
            "_model_module": "@jupyter-widgets/controls",
            "_model_module_version": "1.5.0",
            "_model_name": "HBoxModel",
            "_view_count": null,
            "_view_module": "@jupyter-widgets/controls",
            "_view_module_version": "1.5.0",
            "_view_name": "HBoxView",
            "box_style": "",
            "children": [
              "IPY_MODEL_c14f496f382142d1950a9f790855090e",
              "IPY_MODEL_7238dc2ba4c944ef86c50a99f1b9dc76",
              "IPY_MODEL_e3e4a7c27c084310ad5b4cc047665cdc"
            ],
            "layout": "IPY_MODEL_6b4ac1feace047ae8ac205d31a5cb3bf"
          }
        },
        "c14f496f382142d1950a9f790855090e": {
          "model_module": "@jupyter-widgets/controls",
          "model_name": "HTMLModel",
          "model_module_version": "1.5.0",
          "state": {
            "_dom_classes": [],
            "_model_module": "@jupyter-widgets/controls",
            "_model_module_version": "1.5.0",
            "_model_name": "HTMLModel",
            "_view_count": null,
            "_view_module": "@jupyter-widgets/controls",
            "_view_module_version": "1.5.0",
            "_view_name": "HTMLView",
            "description": "",
            "description_tooltip": null,
            "layout": "IPY_MODEL_ec8068a28b0f4b3986e81fcf1ac119f8",
            "placeholder": "​",
            "style": "IPY_MODEL_0784aed854a84c7cad29373bee07d3aa",
            "value": "Job ID 37e43ce6-2995-493e-9ffa-e4f45af725bc successfully executed: 100%"
          }
        },
        "7238dc2ba4c944ef86c50a99f1b9dc76": {
          "model_module": "@jupyter-widgets/controls",
          "model_name": "FloatProgressModel",
          "model_module_version": "1.5.0",
          "state": {
            "_dom_classes": [],
            "_model_module": "@jupyter-widgets/controls",
            "_model_module_version": "1.5.0",
            "_model_name": "FloatProgressModel",
            "_view_count": null,
            "_view_module": "@jupyter-widgets/controls",
            "_view_module_version": "1.5.0",
            "_view_name": "ProgressView",
            "bar_style": "success",
            "description": "",
            "description_tooltip": null,
            "layout": "IPY_MODEL_266efdb57d12433daa1e6acb23820960",
            "max": 1,
            "min": 0,
            "orientation": "horizontal",
            "style": "IPY_MODEL_d1390c183ff64b8aa4968100c3179a8a",
            "value": 1
          }
        },
        "e3e4a7c27c084310ad5b4cc047665cdc": {
          "model_module": "@jupyter-widgets/controls",
          "model_name": "HTMLModel",
          "model_module_version": "1.5.0",
          "state": {
            "_dom_classes": [],
            "_model_module": "@jupyter-widgets/controls",
            "_model_module_version": "1.5.0",
            "_model_name": "HTMLModel",
            "_view_count": null,
            "_view_module": "@jupyter-widgets/controls",
            "_view_module_version": "1.5.0",
            "_view_name": "HTMLView",
            "description": "",
            "description_tooltip": null,
            "layout": "IPY_MODEL_867e17ec89944fe4b3b9ab3d508d08b0",
            "placeholder": "​",
            "style": "IPY_MODEL_a146c8573fb74e178c8426dbb89cd854",
            "value": ""
          }
        },
        "6b4ac1feace047ae8ac205d31a5cb3bf": {
          "model_module": "@jupyter-widgets/base",
          "model_name": "LayoutModel",
          "model_module_version": "1.2.0",
          "state": {
            "_model_module": "@jupyter-widgets/base",
            "_model_module_version": "1.2.0",
            "_model_name": "LayoutModel",
            "_view_count": null,
            "_view_module": "@jupyter-widgets/base",
            "_view_module_version": "1.2.0",
            "_view_name": "LayoutView",
            "align_content": null,
            "align_items": null,
            "align_self": null,
            "border": null,
            "bottom": null,
            "display": null,
            "flex": null,
            "flex_flow": null,
            "grid_area": null,
            "grid_auto_columns": null,
            "grid_auto_flow": null,
            "grid_auto_rows": null,
            "grid_column": null,
            "grid_gap": null,
            "grid_row": null,
            "grid_template_areas": null,
            "grid_template_columns": null,
            "grid_template_rows": null,
            "height": null,
            "justify_content": null,
            "justify_items": null,
            "left": null,
            "margin": null,
            "max_height": null,
            "max_width": null,
            "min_height": null,
            "min_width": null,
            "object_fit": null,
            "object_position": null,
            "order": null,
            "overflow": null,
            "overflow_x": null,
            "overflow_y": null,
            "padding": null,
            "right": null,
            "top": null,
            "visibility": null,
            "width": null
          }
        },
        "ec8068a28b0f4b3986e81fcf1ac119f8": {
          "model_module": "@jupyter-widgets/base",
          "model_name": "LayoutModel",
          "model_module_version": "1.2.0",
          "state": {
            "_model_module": "@jupyter-widgets/base",
            "_model_module_version": "1.2.0",
            "_model_name": "LayoutModel",
            "_view_count": null,
            "_view_module": "@jupyter-widgets/base",
            "_view_module_version": "1.2.0",
            "_view_name": "LayoutView",
            "align_content": null,
            "align_items": null,
            "align_self": null,
            "border": null,
            "bottom": null,
            "display": null,
            "flex": null,
            "flex_flow": null,
            "grid_area": null,
            "grid_auto_columns": null,
            "grid_auto_flow": null,
            "grid_auto_rows": null,
            "grid_column": null,
            "grid_gap": null,
            "grid_row": null,
            "grid_template_areas": null,
            "grid_template_columns": null,
            "grid_template_rows": null,
            "height": null,
            "justify_content": null,
            "justify_items": null,
            "left": null,
            "margin": null,
            "max_height": null,
            "max_width": null,
            "min_height": null,
            "min_width": null,
            "object_fit": null,
            "object_position": null,
            "order": null,
            "overflow": null,
            "overflow_x": null,
            "overflow_y": null,
            "padding": null,
            "right": null,
            "top": null,
            "visibility": null,
            "width": null
          }
        },
        "0784aed854a84c7cad29373bee07d3aa": {
          "model_module": "@jupyter-widgets/controls",
          "model_name": "DescriptionStyleModel",
          "model_module_version": "1.5.0",
          "state": {
            "_model_module": "@jupyter-widgets/controls",
            "_model_module_version": "1.5.0",
            "_model_name": "DescriptionStyleModel",
            "_view_count": null,
            "_view_module": "@jupyter-widgets/base",
            "_view_module_version": "1.2.0",
            "_view_name": "StyleView",
            "description_width": ""
          }
        },
        "266efdb57d12433daa1e6acb23820960": {
          "model_module": "@jupyter-widgets/base",
          "model_name": "LayoutModel",
          "model_module_version": "1.2.0",
          "state": {
            "_model_module": "@jupyter-widgets/base",
            "_model_module_version": "1.2.0",
            "_model_name": "LayoutModel",
            "_view_count": null,
            "_view_module": "@jupyter-widgets/base",
            "_view_module_version": "1.2.0",
            "_view_name": "LayoutView",
            "align_content": null,
            "align_items": null,
            "align_self": null,
            "border": null,
            "bottom": null,
            "display": null,
            "flex": null,
            "flex_flow": null,
            "grid_area": null,
            "grid_auto_columns": null,
            "grid_auto_flow": null,
            "grid_auto_rows": null,
            "grid_column": null,
            "grid_gap": null,
            "grid_row": null,
            "grid_template_areas": null,
            "grid_template_columns": null,
            "grid_template_rows": null,
            "height": null,
            "justify_content": null,
            "justify_items": null,
            "left": null,
            "margin": null,
            "max_height": null,
            "max_width": null,
            "min_height": null,
            "min_width": null,
            "object_fit": null,
            "object_position": null,
            "order": null,
            "overflow": null,
            "overflow_x": null,
            "overflow_y": null,
            "padding": null,
            "right": null,
            "top": null,
            "visibility": null,
            "width": null
          }
        },
        "d1390c183ff64b8aa4968100c3179a8a": {
          "model_module": "@jupyter-widgets/controls",
          "model_name": "ProgressStyleModel",
          "model_module_version": "1.5.0",
          "state": {
            "_model_module": "@jupyter-widgets/controls",
            "_model_module_version": "1.5.0",
            "_model_name": "ProgressStyleModel",
            "_view_count": null,
            "_view_module": "@jupyter-widgets/base",
            "_view_module_version": "1.2.0",
            "_view_name": "StyleView",
            "bar_color": null,
            "description_width": ""
          }
        },
        "867e17ec89944fe4b3b9ab3d508d08b0": {
          "model_module": "@jupyter-widgets/base",
          "model_name": "LayoutModel",
          "model_module_version": "1.2.0",
          "state": {
            "_model_module": "@jupyter-widgets/base",
            "_model_module_version": "1.2.0",
            "_model_name": "LayoutModel",
            "_view_count": null,
            "_view_module": "@jupyter-widgets/base",
            "_view_module_version": "1.2.0",
            "_view_name": "LayoutView",
            "align_content": null,
            "align_items": null,
            "align_self": null,
            "border": null,
            "bottom": null,
            "display": null,
            "flex": null,
            "flex_flow": null,
            "grid_area": null,
            "grid_auto_columns": null,
            "grid_auto_flow": null,
            "grid_auto_rows": null,
            "grid_column": null,
            "grid_gap": null,
            "grid_row": null,
            "grid_template_areas": null,
            "grid_template_columns": null,
            "grid_template_rows": null,
            "height": null,
            "justify_content": null,
            "justify_items": null,
            "left": null,
            "margin": null,
            "max_height": null,
            "max_width": null,
            "min_height": null,
            "min_width": null,
            "object_fit": null,
            "object_position": null,
            "order": null,
            "overflow": null,
            "overflow_x": null,
            "overflow_y": null,
            "padding": null,
            "right": null,
            "top": null,
            "visibility": null,
            "width": null
          }
        },
        "a146c8573fb74e178c8426dbb89cd854": {
          "model_module": "@jupyter-widgets/controls",
          "model_name": "DescriptionStyleModel",
          "model_module_version": "1.5.0",
          "state": {
            "_model_module": "@jupyter-widgets/controls",
            "_model_module_version": "1.5.0",
            "_model_name": "DescriptionStyleModel",
            "_view_count": null,
            "_view_module": "@jupyter-widgets/base",
            "_view_module_version": "1.2.0",
            "_view_name": "StyleView",
            "description_width": ""
          }
        },
        "e85181c7c839468ca95bf8f3a814a34a": {
          "model_module": "@jupyter-widgets/controls",
          "model_name": "HBoxModel",
          "model_module_version": "1.5.0",
          "state": {
            "_dom_classes": [],
            "_model_module": "@jupyter-widgets/controls",
            "_model_module_version": "1.5.0",
            "_model_name": "HBoxModel",
            "_view_count": null,
            "_view_module": "@jupyter-widgets/controls",
            "_view_module_version": "1.5.0",
            "_view_name": "HBoxView",
            "box_style": "",
            "children": [
              "IPY_MODEL_6d5a846458794e02a4d0fef11d261e8f",
              "IPY_MODEL_3e3297ac3bf0415a810cb577314e6940",
              "IPY_MODEL_5f5d80d242594e2e8657e0928c5cde29"
            ],
            "layout": "IPY_MODEL_deb054e978534f419c0205399c481c93"
          }
        },
        "6d5a846458794e02a4d0fef11d261e8f": {
          "model_module": "@jupyter-widgets/controls",
          "model_name": "HTMLModel",
          "model_module_version": "1.5.0",
          "state": {
            "_dom_classes": [],
            "_model_module": "@jupyter-widgets/controls",
            "_model_module_version": "1.5.0",
            "_model_name": "HTMLModel",
            "_view_count": null,
            "_view_module": "@jupyter-widgets/controls",
            "_view_module_version": "1.5.0",
            "_view_name": "HTMLView",
            "description": "",
            "description_tooltip": null,
            "layout": "IPY_MODEL_e66f4f5485404230931ff11f43975567",
            "placeholder": "​",
            "style": "IPY_MODEL_9933468ed98541f0b1eaef52a4cb72bc",
            "value": "Downloading: 100%"
          }
        },
        "3e3297ac3bf0415a810cb577314e6940": {
          "model_module": "@jupyter-widgets/controls",
          "model_name": "FloatProgressModel",
          "model_module_version": "1.5.0",
          "state": {
            "_dom_classes": [],
            "_model_module": "@jupyter-widgets/controls",
            "_model_module_version": "1.5.0",
            "_model_name": "FloatProgressModel",
            "_view_count": null,
            "_view_module": "@jupyter-widgets/controls",
            "_view_module_version": "1.5.0",
            "_view_name": "ProgressView",
            "bar_style": "success",
            "description": "",
            "description_tooltip": null,
            "layout": "IPY_MODEL_285175f32eef4c6aaea028fe957ce9e2",
            "max": 55699,
            "min": 0,
            "orientation": "horizontal",
            "style": "IPY_MODEL_9fd513a15071464ead74675dc1010a28",
            "value": 55699
          }
        },
        "5f5d80d242594e2e8657e0928c5cde29": {
          "model_module": "@jupyter-widgets/controls",
          "model_name": "HTMLModel",
          "model_module_version": "1.5.0",
          "state": {
            "_dom_classes": [],
            "_model_module": "@jupyter-widgets/controls",
            "_model_module_version": "1.5.0",
            "_model_name": "HTMLModel",
            "_view_count": null,
            "_view_module": "@jupyter-widgets/controls",
            "_view_module_version": "1.5.0",
            "_view_name": "HTMLView",
            "description": "",
            "description_tooltip": null,
            "layout": "IPY_MODEL_c333dd90950d439c913b09307de8865a",
            "placeholder": "​",
            "style": "IPY_MODEL_430da3f983fc40a193113c254f43eacf",
            "value": ""
          }
        },
        "deb054e978534f419c0205399c481c93": {
          "model_module": "@jupyter-widgets/base",
          "model_name": "LayoutModel",
          "model_module_version": "1.2.0",
          "state": {
            "_model_module": "@jupyter-widgets/base",
            "_model_module_version": "1.2.0",
            "_model_name": "LayoutModel",
            "_view_count": null,
            "_view_module": "@jupyter-widgets/base",
            "_view_module_version": "1.2.0",
            "_view_name": "LayoutView",
            "align_content": null,
            "align_items": null,
            "align_self": null,
            "border": null,
            "bottom": null,
            "display": null,
            "flex": null,
            "flex_flow": null,
            "grid_area": null,
            "grid_auto_columns": null,
            "grid_auto_flow": null,
            "grid_auto_rows": null,
            "grid_column": null,
            "grid_gap": null,
            "grid_row": null,
            "grid_template_areas": null,
            "grid_template_columns": null,
            "grid_template_rows": null,
            "height": null,
            "justify_content": null,
            "justify_items": null,
            "left": null,
            "margin": null,
            "max_height": null,
            "max_width": null,
            "min_height": null,
            "min_width": null,
            "object_fit": null,
            "object_position": null,
            "order": null,
            "overflow": null,
            "overflow_x": null,
            "overflow_y": null,
            "padding": null,
            "right": null,
            "top": null,
            "visibility": null,
            "width": null
          }
        },
        "e66f4f5485404230931ff11f43975567": {
          "model_module": "@jupyter-widgets/base",
          "model_name": "LayoutModel",
          "model_module_version": "1.2.0",
          "state": {
            "_model_module": "@jupyter-widgets/base",
            "_model_module_version": "1.2.0",
            "_model_name": "LayoutModel",
            "_view_count": null,
            "_view_module": "@jupyter-widgets/base",
            "_view_module_version": "1.2.0",
            "_view_name": "LayoutView",
            "align_content": null,
            "align_items": null,
            "align_self": null,
            "border": null,
            "bottom": null,
            "display": null,
            "flex": null,
            "flex_flow": null,
            "grid_area": null,
            "grid_auto_columns": null,
            "grid_auto_flow": null,
            "grid_auto_rows": null,
            "grid_column": null,
            "grid_gap": null,
            "grid_row": null,
            "grid_template_areas": null,
            "grid_template_columns": null,
            "grid_template_rows": null,
            "height": null,
            "justify_content": null,
            "justify_items": null,
            "left": null,
            "margin": null,
            "max_height": null,
            "max_width": null,
            "min_height": null,
            "min_width": null,
            "object_fit": null,
            "object_position": null,
            "order": null,
            "overflow": null,
            "overflow_x": null,
            "overflow_y": null,
            "padding": null,
            "right": null,
            "top": null,
            "visibility": null,
            "width": null
          }
        },
        "9933468ed98541f0b1eaef52a4cb72bc": {
          "model_module": "@jupyter-widgets/controls",
          "model_name": "DescriptionStyleModel",
          "model_module_version": "1.5.0",
          "state": {
            "_model_module": "@jupyter-widgets/controls",
            "_model_module_version": "1.5.0",
            "_model_name": "DescriptionStyleModel",
            "_view_count": null,
            "_view_module": "@jupyter-widgets/base",
            "_view_module_version": "1.2.0",
            "_view_name": "StyleView",
            "description_width": ""
          }
        },
        "285175f32eef4c6aaea028fe957ce9e2": {
          "model_module": "@jupyter-widgets/base",
          "model_name": "LayoutModel",
          "model_module_version": "1.2.0",
          "state": {
            "_model_module": "@jupyter-widgets/base",
            "_model_module_version": "1.2.0",
            "_model_name": "LayoutModel",
            "_view_count": null,
            "_view_module": "@jupyter-widgets/base",
            "_view_module_version": "1.2.0",
            "_view_name": "LayoutView",
            "align_content": null,
            "align_items": null,
            "align_self": null,
            "border": null,
            "bottom": null,
            "display": null,
            "flex": null,
            "flex_flow": null,
            "grid_area": null,
            "grid_auto_columns": null,
            "grid_auto_flow": null,
            "grid_auto_rows": null,
            "grid_column": null,
            "grid_gap": null,
            "grid_row": null,
            "grid_template_areas": null,
            "grid_template_columns": null,
            "grid_template_rows": null,
            "height": null,
            "justify_content": null,
            "justify_items": null,
            "left": null,
            "margin": null,
            "max_height": null,
            "max_width": null,
            "min_height": null,
            "min_width": null,
            "object_fit": null,
            "object_position": null,
            "order": null,
            "overflow": null,
            "overflow_x": null,
            "overflow_y": null,
            "padding": null,
            "right": null,
            "top": null,
            "visibility": null,
            "width": null
          }
        },
        "9fd513a15071464ead74675dc1010a28": {
          "model_module": "@jupyter-widgets/controls",
          "model_name": "ProgressStyleModel",
          "model_module_version": "1.5.0",
          "state": {
            "_model_module": "@jupyter-widgets/controls",
            "_model_module_version": "1.5.0",
            "_model_name": "ProgressStyleModel",
            "_view_count": null,
            "_view_module": "@jupyter-widgets/base",
            "_view_module_version": "1.2.0",
            "_view_name": "StyleView",
            "bar_color": null,
            "description_width": ""
          }
        },
        "c333dd90950d439c913b09307de8865a": {
          "model_module": "@jupyter-widgets/base",
          "model_name": "LayoutModel",
          "model_module_version": "1.2.0",
          "state": {
            "_model_module": "@jupyter-widgets/base",
            "_model_module_version": "1.2.0",
            "_model_name": "LayoutModel",
            "_view_count": null,
            "_view_module": "@jupyter-widgets/base",
            "_view_module_version": "1.2.0",
            "_view_name": "LayoutView",
            "align_content": null,
            "align_items": null,
            "align_self": null,
            "border": null,
            "bottom": null,
            "display": null,
            "flex": null,
            "flex_flow": null,
            "grid_area": null,
            "grid_auto_columns": null,
            "grid_auto_flow": null,
            "grid_auto_rows": null,
            "grid_column": null,
            "grid_gap": null,
            "grid_row": null,
            "grid_template_areas": null,
            "grid_template_columns": null,
            "grid_template_rows": null,
            "height": null,
            "justify_content": null,
            "justify_items": null,
            "left": null,
            "margin": null,
            "max_height": null,
            "max_width": null,
            "min_height": null,
            "min_width": null,
            "object_fit": null,
            "object_position": null,
            "order": null,
            "overflow": null,
            "overflow_x": null,
            "overflow_y": null,
            "padding": null,
            "right": null,
            "top": null,
            "visibility": null,
            "width": null
          }
        },
        "430da3f983fc40a193113c254f43eacf": {
          "model_module": "@jupyter-widgets/controls",
          "model_name": "DescriptionStyleModel",
          "model_module_version": "1.5.0",
          "state": {
            "_model_module": "@jupyter-widgets/controls",
            "_model_module_version": "1.5.0",
            "_model_name": "DescriptionStyleModel",
            "_view_count": null,
            "_view_module": "@jupyter-widgets/base",
            "_view_module_version": "1.2.0",
            "_view_name": "StyleView",
            "description_width": ""
          }
        }
      }
    }
  },
  "cells": [
    {
      "cell_type": "code",
      "source": [
        "# @title Setup\n",
        "from google.cloud import bigquery\n",
        "from google.colab import data_table\n",
        "import bigframes.pandas as bpd\n",
        "import numpy as np\n",
        "import pandas as pd\n",
        "\n",
        "project = 'flight-de-project' # Project ID inserted based on the query results selected to explore\n",
        "location = 'US' # Location inserted based on the query results selected to explore\n",
        "client = bigquery.Client(project=project, location=location)\n",
        "data_table.enable_dataframe_formatter()"
      ],
      "metadata": {
        "id": "w6MmeBUBJ-9E",
        "executionInfo": {
          "status": "ok",
          "timestamp": 1734022965206,
          "user_tz": -60,
          "elapsed": 89,
          "user": {
            "displayName": "",
            "userId": ""
          }
        }
      },
      "execution_count": 93,
      "outputs": []
    },
    {
      "metadata": {
        "id": "pj42soltXW_H"
      },
      "cell_type": "markdown",
      "source": [
        "## Reference SQL syntax from the original job\n",
        "Use the ```jobs.query```\n",
        "[method](https://cloud.google.com/bigquery/docs/reference/rest/v2/jobs/query) to\n",
        "return the SQL syntax from the job. This can be copied from the output cell\n",
        "below to edit the query now or in the future. Alternatively, you can use\n",
        "[this link](https://console.cloud.google.com/bigquery?j=flight-de-project:US:script_job_7e8365ded74241519815ca4b2042397b_0)\n",
        "back to BigQuery to edit the query within the BigQuery user interface."
      ]
    },
    {
      "metadata": {
        "id": "KxSqPfAeXW_K",
        "executionInfo": {
          "status": "ok",
          "timestamp": 1734022968149,
          "user_tz": -60,
          "elapsed": 166,
          "user": {
            "displayName": "",
            "userId": ""
          }
        }
      },
      "cell_type": "code",
      "source": [
        "# Running this code will display the query used to generate your previous job\n",
        "\n",
        "# job = client.get_job('script_job_7e8365ded74241519815ca4b2042397b_0') # Job ID inserted based on the query results selected to explore\n",
        "# print(job.query)"
      ],
      "outputs": [],
      "execution_count": 94
    },
    {
      "cell_type": "markdown",
      "metadata": {
        "id": "eY-wNOGO11ON"
      },
      "source": [
        "# Result set loaded from BigQuery job as a DataFrame\n",
        "Query results are referenced from the Job ID ran from BigQuery and the query\n",
        "does not need to be re-run to explore results. The ```to_dataframe```\n",
        "[method](https://googleapis.dev/python/bigquery/latest/generated/google.cloud.bigquery.job.QueryJob.html#google.cloud.bigquery.job.QueryJob.to_dataframe)\n",
        "downloads the results to a Pandas DataFrame by using the BigQuery Storage API. The read_gbq_table [method](https://cloud.google.com/python/docs/reference/bigframes/latest/bigframes.pandas#bigframes_pandas_read_gbq_function) turns a BigQuery table into the BigFrames DataFrame.\n",
        "\n",
        "To edit query syntax, you can do so from the BigQuery SQL editor or in the\n",
        "```Optional:``` sections below."
      ]
    },
    {
      "cell_type": "code",
      "execution_count": 66,
      "metadata": {
        "id": "bIw82qhuHWy0",
        "executionInfo": {
          "status": "ok",
          "timestamp": 1734013163819,
          "user_tz": -60,
          "elapsed": 180,
          "user": {
            "displayName": "",
            "userId": ""
          }
        }
      },
      "outputs": [],
      "source": [
        "# Running this code will read results from your previous job\n",
        "\n",
        "# job = client.get_job('script_job_7e8365ded74241519815ca4b2042397b_0') # Job ID inserted based on the query results selected to explore\n",
        "# destination = job.destination\n",
        "\n",
        "# # Load data from a BigQuery table using BigFrames DataFrames:\n",
        "# bq_df = bpd.read_gbq(f\"{destination.project}.{destination.dataset_id}.{destination.table_id}\")\n",
        "# bq_df"
      ]
    },
    {
      "cell_type": "markdown",
      "metadata": {
        "id": "84Ub57pbB6EN"
      },
      "source": [
        "## Show descriptive statistics using describe()\n",
        "Use the ```DataFrame.describe()```\n",
        "[method](https://cloud.google.com/python/docs/reference/bigframes/latest/bigframes.dataframe.DataFrame#bigframes_dataframe_DataFrame_describe)\n",
        "to generate descriptive statistics. Descriptive statistics include those that\n",
        "summarize the central tendency, dispersion and shape of a dataset’s\n",
        "distribution, excluding ```NaN``` values. You may also use other Python methods\n",
        "to interact with your data."
      ]
    },
    {
      "cell_type": "code",
      "source": [
        "# Generate descriptive statistics.\n",
        "# bq_df.describe()"
      ],
      "metadata": {
        "id": "fsAsHoWDZMpv",
        "executionInfo": {
          "status": "ok",
          "timestamp": 1734013182292,
          "user_tz": -60,
          "elapsed": 108,
          "user": {
            "displayName": "",
            "userId": ""
          }
        }
      },
      "execution_count": 67,
      "outputs": []
    },
    {
      "cell_type": "code",
      "source": [
        "# Convert BigQuery DataFrame to pandas DataFrame.\n",
        "# pandas_df = bq_df.to_pandas()"
      ],
      "metadata": {
        "id": "fsAsHoWDZMpvh",
        "executionInfo": {
          "status": "ok",
          "timestamp": 1734013194424,
          "user_tz": -60,
          "elapsed": 111,
          "user": {
            "displayName": "",
            "userId": ""
          }
        }
      },
      "execution_count": 68,
      "outputs": []
    },
    {
      "cell_type": "code",
      "source": [
        "%%bigquery locations_df\n",
        "SELECT *\n",
        "FROM `flight-de-project.flight_data.locations`;"
      ],
      "metadata": {
        "colab": {
          "base_uri": "https://localhost:8080/",
          "height": 81,
          "referenced_widgets": [
            "b8f6553b4b0640049884846a078a28e2",
            "e0c6546464b041ceb19c98efce4e836a",
            "a11093d6574b4b3e8b899c48635636ac",
            "16a3080115be4007834fa3853a083550",
            "01b1e3c7543f49259a1a370e0f4e4a9b",
            "c10ebc8dc0884f9490dd8eeba15264ae",
            "162cfaeb58ae453e8e2e966bd34c3ea6",
            "522d51eb9a314224b7a215c3be08e33b",
            "7fe5d7c6a3c6464c8d36e4967349dd83",
            "4778f0f8a2f74b6c9cbf89a19a924e8b",
            "0754d364da8a49e290fd67102d741915",
            "a324e0f513a3491c8fa3fd0e9db7728f",
            "8791242ff42848d6b47af1824da6793c",
            "ba7d29cb5cde4fe7adb9dccdc36fd18a",
            "325234d850854d12bed09dea5a01dc2b",
            "11c0af0919be4d818a17bac4171c4b20",
            "6149d8ffd4a448829de14699d0dea961",
            "d1cd86fb8de24f6c984cfd42260b803c",
            "74e923aba9864c9ba549aed6bcee7c18",
            "8261afe85f0d47bebd6b4cace4e1ca49",
            "d2543e583e76426a9168e3ba8e470c4a",
            "3d447267b5b94bac95e1f3fde939869c"
          ]
        },
        "id": "2S6i4bzuBYmC",
        "executionInfo": {
          "status": "ok",
          "timestamp": 1734022974242,
          "user_tz": -60,
          "elapsed": 2752,
          "user": {
            "displayName": "",
            "userId": ""
          }
        },
        "outputId": "a1aa800a-2de7-4e12-fdb3-a93bb70e333a"
      },
      "execution_count": 95,
      "outputs": [
        {
          "output_type": "display_data",
          "data": {
            "text/plain": [
              "Query is running:   0%|          |"
            ],
            "application/vnd.jupyter.widget-view+json": {
              "version_major": 2,
              "version_minor": 0,
              "model_id": "b8f6553b4b0640049884846a078a28e2"
            }
          },
          "metadata": {}
        },
        {
          "output_type": "display_data",
          "data": {
            "text/plain": [
              "Downloading:   0%|          |"
            ],
            "application/vnd.jupyter.widget-view+json": {
              "version_major": 2,
              "version_minor": 0,
              "model_id": "a324e0f513a3491c8fa3fd0e9db7728f"
            }
          },
          "metadata": {}
        }
      ]
    },
    {
      "cell_type": "code",
      "source": [
        "%%bigquery transactions_df\n",
        "SELECT *\n",
        "FROM `flight-de-project.flight_data.transactions`;"
      ],
      "metadata": {
        "colab": {
          "base_uri": "https://localhost:8080/",
          "height": 81,
          "referenced_widgets": [
            "7ef457f77b2b4f70939856b4d23000ed",
            "c14f496f382142d1950a9f790855090e",
            "7238dc2ba4c944ef86c50a99f1b9dc76",
            "e3e4a7c27c084310ad5b4cc047665cdc",
            "6b4ac1feace047ae8ac205d31a5cb3bf",
            "ec8068a28b0f4b3986e81fcf1ac119f8",
            "0784aed854a84c7cad29373bee07d3aa",
            "266efdb57d12433daa1e6acb23820960",
            "d1390c183ff64b8aa4968100c3179a8a",
            "867e17ec89944fe4b3b9ab3d508d08b0",
            "a146c8573fb74e178c8426dbb89cd854",
            "e85181c7c839468ca95bf8f3a814a34a",
            "6d5a846458794e02a4d0fef11d261e8f",
            "3e3297ac3bf0415a810cb577314e6940",
            "5f5d80d242594e2e8657e0928c5cde29",
            "deb054e978534f419c0205399c481c93",
            "e66f4f5485404230931ff11f43975567",
            "9933468ed98541f0b1eaef52a4cb72bc",
            "285175f32eef4c6aaea028fe957ce9e2",
            "9fd513a15071464ead74675dc1010a28",
            "c333dd90950d439c913b09307de8865a",
            "430da3f983fc40a193113c254f43eacf"
          ]
        },
        "id": "H73wwRWuEKP7",
        "executionInfo": {
          "status": "ok",
          "timestamp": 1734023232770,
          "user_tz": -60,
          "elapsed": 3526,
          "user": {
            "displayName": "",
            "userId": ""
          }
        },
        "outputId": "687000f5-5e2d-477a-dacf-32530b8037bf"
      },
      "execution_count": 115,
      "outputs": [
        {
          "output_type": "display_data",
          "data": {
            "text/plain": [
              "Query is running:   0%|          |"
            ],
            "application/vnd.jupyter.widget-view+json": {
              "version_major": 2,
              "version_minor": 0,
              "model_id": "7ef457f77b2b4f70939856b4d23000ed"
            }
          },
          "metadata": {}
        },
        {
          "output_type": "display_data",
          "data": {
            "text/plain": [
              "Downloading:   0%|          |"
            ],
            "application/vnd.jupyter.widget-view+json": {
              "version_major": 2,
              "version_minor": 0,
              "model_id": "e85181c7c839468ca95bf8f3a814a34a"
            }
          },
          "metadata": {}
        }
      ]
    },
    {
      "cell_type": "code",
      "source": [
        "row_count = len(locations_df)\n",
        "print(f\"Number of rows in locations_df: {row_count}\")\n",
        "print(type(locations_df))\n",
        "row_count = len(transactions_df)\n",
        "print(f\"Number of rows in transactions_df: {row_count}\")\n",
        "print(type(transactions_df))\n"
      ],
      "metadata": {
        "colab": {
          "base_uri": "https://localhost:8080/"
        },
        "id": "a7cvPFeCEURL",
        "executionInfo": {
          "status": "ok",
          "timestamp": 1734022978221,
          "user_tz": -60,
          "elapsed": 3,
          "user": {
            "displayName": "",
            "userId": ""
          }
        },
        "outputId": "12ff98d6-ec07-4f1a-cbab-e5a1f9319748"
      },
      "execution_count": 97,
      "outputs": [
        {
          "output_type": "stream",
          "name": "stdout",
          "text": [
            "Number of rows in locations_df: 1774\n",
            "<class 'pandas.core.frame.DataFrame'>\n",
            "Number of rows in transactions_df: 55699\n",
            "<class 'pandas.core.frame.DataFrame'>\n"
          ]
        }
      ]
    },
    {
      "cell_type": "code",
      "source": [
        "locations_df = locations_df.dropna()\n",
        "transactions_df = transactions_df.dropna()\n"
      ],
      "metadata": {
        "id": "x9Paekr8Ehzo",
        "executionInfo": {
          "status": "ok",
          "timestamp": 1734023235507,
          "user_tz": -60,
          "elapsed": 129,
          "user": {
            "displayName": "",
            "userId": ""
          }
        }
      },
      "execution_count": 116,
      "outputs": []
    },
    {
      "cell_type": "code",
      "source": [
        "row_count = len(locations_df)\n",
        "print(f\"Number of rows in locations_df: {row_count}\")\n",
        "print(type(locations_df))\n",
        "row_count = len(transactions_df)\n",
        "print(f\"Number of rows in transactions_df: {row_count}\")\n",
        "print(type(transactions_df))"
      ],
      "metadata": {
        "colab": {
          "base_uri": "https://localhost:8080/"
        },
        "id": "x-5uQfZeFL9K",
        "executionInfo": {
          "status": "ok",
          "timestamp": 1734022979586,
          "user_tz": -60,
          "elapsed": 2,
          "user": {
            "displayName": "",
            "userId": ""
          }
        },
        "outputId": "fd506b34-ab7c-477c-d21e-a18fe895cd09"
      },
      "execution_count": 98,
      "outputs": [
        {
          "output_type": "stream",
          "name": "stdout",
          "text": [
            "Number of rows in locations_df: 1774\n",
            "<class 'pandas.core.frame.DataFrame'>\n",
            "Number of rows in transactions_df: 55699\n",
            "<class 'pandas.core.frame.DataFrame'>\n"
          ]
        }
      ]
    },
    {
      "cell_type": "code",
      "source": [
        "locations_df.info()"
      ],
      "metadata": {
        "colab": {
          "base_uri": "https://localhost:8080/"
        },
        "id": "3V2tlXxMF-gK",
        "executionInfo": {
          "status": "ok",
          "timestamp": 1734022982098,
          "user_tz": -60,
          "elapsed": 96,
          "user": {
            "displayName": "",
            "userId": ""
          }
        },
        "outputId": "140179de-a8a2-4835-e6fa-2bfe5045d86e"
      },
      "execution_count": 99,
      "outputs": [
        {
          "output_type": "stream",
          "name": "stdout",
          "text": [
            "<class 'pandas.core.frame.DataFrame'>\n",
            "RangeIndex: 1774 entries, 0 to 1773\n",
            "Data columns (total 3 columns):\n",
            " #   Column       Non-Null Count  Dtype \n",
            "---  ------       --------------  ----- \n",
            " 0   AirportCode  1773 non-null   object\n",
            " 1   CountryName  1773 non-null   object\n",
            " 2   Region       1773 non-null   object\n",
            "dtypes: object(3)\n",
            "memory usage: 41.7+ KB\n"
          ]
        }
      ]
    },
    {
      "cell_type": "code",
      "source": [
        "transactions_df.info()"
      ],
      "metadata": {
        "colab": {
          "base_uri": "https://localhost:8080/"
        },
        "id": "0U7uR8xeGOYm",
        "executionInfo": {
          "status": "ok",
          "timestamp": 1734022983712,
          "user_tz": -60,
          "elapsed": 93,
          "user": {
            "displayName": "",
            "userId": ""
          }
        },
        "outputId": "8e7dae5e-56db-4938-f4b9-70db23d68a60"
      },
      "execution_count": 100,
      "outputs": [
        {
          "output_type": "stream",
          "name": "stdout",
          "text": [
            "<class 'pandas.core.frame.DataFrame'>\n",
            "RangeIndex: 55699 entries, 0 to 55698\n",
            "Data columns (total 7 columns):\n",
            " #   Column                  Non-Null Count  Dtype \n",
            "---  ------                  --------------  ----- \n",
            " 0   UniqueId                53926 non-null  object\n",
            " 1   TransactionDateUTC      53926 non-null  object\n",
            " 2   Itinerary               53926 non-null  object\n",
            " 3   OriginAirportCode       53926 non-null  object\n",
            " 4   DestinationAirportCode  53926 non-null  object\n",
            " 5   OneWayOrReturn          53926 non-null  object\n",
            " 6   Segment                 55699 non-null  object\n",
            "dtypes: object(7)\n",
            "memory usage: 3.0+ MB\n"
          ]
        }
      ]
    },
    {
      "cell_type": "code",
      "source": [
        "transactions_df.columns"
      ],
      "metadata": {
        "executionInfo": {
          "status": "ok",
          "timestamp": 1734022985522,
          "user_tz": -60,
          "elapsed": 200,
          "user": {
            "displayName": "",
            "userId": ""
          }
        },
        "colab": {
          "base_uri": "https://localhost:8080/"
        },
        "id": "iktP0H82GoE1",
        "outputId": "e3fb0d6a-364c-4bf4-c5ba-0e1ea0ba13c1"
      },
      "execution_count": 101,
      "outputs": [
        {
          "output_type": "execute_result",
          "data": {
            "text/plain": [
              "Index(['UniqueId', 'TransactionDateUTC', 'Itinerary', 'OriginAirportCode',\n",
              "       'DestinationAirportCode', 'OneWayOrReturn', 'Segment'],\n",
              "      dtype='object')"
            ]
          },
          "metadata": {},
          "execution_count": 101
        }
      ]
    },
    {
      "cell_type": "code",
      "source": [
        "print(type(transactions_df['Segment']))"
      ],
      "metadata": {
        "colab": {
          "base_uri": "https://localhost:8080/"
        },
        "id": "3nWXplgvGsZR",
        "executionInfo": {
          "status": "ok",
          "timestamp": 1734011070841,
          "user_tz": -60,
          "elapsed": 88,
          "user": {
            "displayName": "",
            "userId": ""
          }
        },
        "outputId": "6c9ac848-eae1-4a83-99f6-a239774daad7"
      },
      "execution_count": 33,
      "outputs": [
        {
          "output_type": "stream",
          "name": "stdout",
          "text": [
            "<class 'pandas.core.series.Series'>\n"
          ]
        }
      ]
    },
    {
      "cell_type": "code",
      "source": [
        "transactions_df.dtypes"
      ],
      "metadata": {
        "colab": {
          "base_uri": "https://localhost:8080/",
          "height": 303
        },
        "id": "HsCFGNUqHCRF",
        "executionInfo": {
          "status": "ok",
          "timestamp": 1734022987415,
          "user_tz": -60,
          "elapsed": 158,
          "user": {
            "displayName": "",
            "userId": ""
          }
        },
        "outputId": "9c939f63-2564-4361-c644-badec7075f19"
      },
      "execution_count": 102,
      "outputs": [
        {
          "output_type": "execute_result",
          "data": {
            "text/plain": [
              "UniqueId                  object\n",
              "TransactionDateUTC        object\n",
              "Itinerary                 object\n",
              "OriginAirportCode         object\n",
              "DestinationAirportCode    object\n",
              "OneWayOrReturn            object\n",
              "Segment                   object\n",
              "dtype: object"
            ],
            "text/html": [
              "<div>\n",
              "<style scoped>\n",
              "    .dataframe tbody tr th:only-of-type {\n",
              "        vertical-align: middle;\n",
              "    }\n",
              "\n",
              "    .dataframe tbody tr th {\n",
              "        vertical-align: top;\n",
              "    }\n",
              "\n",
              "    .dataframe thead th {\n",
              "        text-align: right;\n",
              "    }\n",
              "</style>\n",
              "<table border=\"1\" class=\"dataframe\">\n",
              "  <thead>\n",
              "    <tr style=\"text-align: right;\">\n",
              "      <th></th>\n",
              "      <th>0</th>\n",
              "    </tr>\n",
              "  </thead>\n",
              "  <tbody>\n",
              "    <tr>\n",
              "      <th>UniqueId</th>\n",
              "      <td>object</td>\n",
              "    </tr>\n",
              "    <tr>\n",
              "      <th>TransactionDateUTC</th>\n",
              "      <td>object</td>\n",
              "    </tr>\n",
              "    <tr>\n",
              "      <th>Itinerary</th>\n",
              "      <td>object</td>\n",
              "    </tr>\n",
              "    <tr>\n",
              "      <th>OriginAirportCode</th>\n",
              "      <td>object</td>\n",
              "    </tr>\n",
              "    <tr>\n",
              "      <th>DestinationAirportCode</th>\n",
              "      <td>object</td>\n",
              "    </tr>\n",
              "    <tr>\n",
              "      <th>OneWayOrReturn</th>\n",
              "      <td>object</td>\n",
              "    </tr>\n",
              "    <tr>\n",
              "      <th>Segment</th>\n",
              "      <td>object</td>\n",
              "    </tr>\n",
              "  </tbody>\n",
              "</table>\n",
              "</div><br><label><b>dtype:</b> object</label>"
            ]
          },
          "metadata": {},
          "execution_count": 102
        }
      ]
    },
    {
      "cell_type": "code",
      "source": [
        "transactions_df['Segment'].dtypes"
      ],
      "metadata": {
        "colab": {
          "base_uri": "https://localhost:8080/"
        },
        "id": "rlsTT0onHcf3",
        "executionInfo": {
          "status": "ok",
          "timestamp": 1734022989805,
          "user_tz": -60,
          "elapsed": 166,
          "user": {
            "displayName": "",
            "userId": ""
          }
        },
        "outputId": "6eb4cb3c-80f2-4a72-c986-53db6efbae03"
      },
      "execution_count": 103,
      "outputs": [
        {
          "output_type": "execute_result",
          "data": {
            "text/plain": [
              "dtype('O')"
            ]
          },
          "metadata": {},
          "execution_count": 103
        }
      ]
    },
    {
      "cell_type": "code",
      "source": [
        "transactions_df = transactions_df.drop_duplicates(subset=\"UniqueId\", keep=\"first\")"
      ],
      "metadata": {
        "id": "gkVcBYNUIamu",
        "executionInfo": {
          "status": "ok",
          "timestamp": 1734023246745,
          "user_tz": -60,
          "elapsed": 124,
          "user": {
            "displayName": "",
            "userId": ""
          }
        }
      },
      "execution_count": 117,
      "outputs": []
    },
    {
      "cell_type": "code",
      "source": [
        "row_count = len(transactions_df)\n",
        "print(f\"Number of rows in transactions_df: {row_count}\")"
      ],
      "metadata": {
        "colab": {
          "base_uri": "https://localhost:8080/"
        },
        "id": "LzdyTwMNKTWT",
        "executionInfo": {
          "status": "ok",
          "timestamp": 1734022991246,
          "user_tz": -60,
          "elapsed": 95,
          "user": {
            "displayName": "",
            "userId": ""
          }
        },
        "outputId": "0a52389c-e989-4197-ec2f-8361c1160fe6"
      },
      "execution_count": 104,
      "outputs": [
        {
          "output_type": "stream",
          "name": "stdout",
          "text": [
            "Number of rows in transactions_df: 55699\n"
          ]
        }
      ]
    },
    {
      "cell_type": "markdown",
      "source": [
        "### ***Requirement:*** From which country are most transactions originating? How many transactions is this?\n",
        "*This query joins the transactions table with the locations table on OriginAirportCode to find the country with the highest transaction count.*"
      ],
      "metadata": {
        "id": "78ey56U8qKBc"
      }
    },
    {
      "cell_type": "code",
      "source": [
        "# Perform the join on the 'OriginAirportCode' and 'AirportCode'\n",
        "merged_df = pd.merge(transactions_df, locations_df, left_on='OriginAirportCode', right_on='AirportCode', how='inner')\n",
        "\n",
        "# Group by 'CountryName' and count the number of transactions\n",
        "country_transactions = merged_df.groupby('CountryName').size().reset_index(name='NumTransactions')\n",
        "\n",
        "# Sort by the number of transactions in descending order\n",
        "country_transactions = country_transactions.sort_values(by='NumTransactions', ascending=False)\n",
        "\n",
        "# Display the result\n",
        "top_20_country_transactions = country_transactions.head(20)\n",
        "first_row = top_20_country_transactions.head(1)\n",
        "\n",
        "first_column_value =first_row.iloc[0]\n",
        "print(first_column_value)"
      ],
      "metadata": {
        "colab": {
          "base_uri": "https://localhost:8080/"
        },
        "id": "KqMtqNmwKZyj",
        "executionInfo": {
          "status": "ok",
          "timestamp": 1734023249808,
          "user_tz": -60,
          "elapsed": 99,
          "user": {
            "displayName": "",
            "userId": ""
          }
        },
        "outputId": "0826dd3e-6af4-4dbe-f39d-801f4a16301c"
      },
      "execution_count": 118,
      "outputs": [
        {
          "output_type": "stream",
          "name": "stdout",
          "text": [
            "CountryName        Netherlands\n",
            "NumTransactions           6644\n",
            "Name: 125, dtype: object\n"
          ]
        }
      ]
    },
    {
      "cell_type": "code",
      "source": [
        "import seaborn as sns\n",
        "import matplotlib.pyplot as plt\n",
        "\n",
        "# Set the size of the plot\n",
        "plt.figure(figsize=(10, 6))\n",
        "\n",
        "# Create a bar plot using seaborn\n",
        "sns.barplot(x='CountryName', y='NumTransactions', data=top_20_country_transactions, palette='Blues_d')\n",
        "\n",
        "# Rotate the x-axis labels for better readability\n",
        "plt.xticks(rotation=90)\n",
        "\n",
        "# Adding titles and labels\n",
        "plt.title('Number of Transactions by Country', fontsize=16)\n",
        "plt.xlabel('Country Name', fontsize=12)\n",
        "plt.ylabel('Number of Transactions', fontsize=12)\n",
        "\n",
        "# Show the plot\n",
        "plt.tight_layout()  # Adjusts the plot to fit in the figure area\n",
        "plt.show()\n"
      ],
      "metadata": {
        "colab": {
          "base_uri": "https://localhost:8080/",
          "height": 693
        },
        "id": "QOpAjKWSOGWk",
        "executionInfo": {
          "status": "ok",
          "timestamp": 1734023252875,
          "user_tz": -60,
          "elapsed": 759,
          "user": {
            "displayName": "",
            "userId": ""
          }
        },
        "outputId": "6fb60d83-09c2-4333-af0b-79b24cd9da31"
      },
      "execution_count": 119,
      "outputs": [
        {
          "output_type": "stream",
          "name": "stderr",
          "text": [
            "<ipython-input-119-164c0f625794>:8: FutureWarning: \n",
            "\n",
            "Passing `palette` without assigning `hue` is deprecated and will be removed in v0.14.0. Assign the `x` variable to `hue` and set `legend=False` for the same effect.\n",
            "\n",
            "  sns.barplot(x='CountryName', y='NumTransactions', data=top_20_country_transactions, palette='Blues_d')\n"
          ]
        },
        {
          "output_type": "display_data",
          "data": {
            "text/plain": [
              "<Figure size 1000x600 with 1 Axes>"
            ],
            "image/png": "[encoded data removed]"
          },
          "metadata": {}
        }
      ]
    },
    {
      "cell_type": "markdown",
      "source": [
        "### ***Requirement:*** What's the split between domestic vs international transactions?\n",
        "*A domestic transaction is one where the origin and destination countries are the same. This query determines the counts of domestic and international transactions.*"
      ],
      "metadata": {
        "id": "TqCIJ0ktrXlN"
      }
    },
    {
      "cell_type": "code",
      "source": [
        "import pandas as pd\n",
        "\n",
        "# Assuming transactions_df and locations_df are already loaded\n",
        "\n",
        "# Merge the transactions with the locations dataframe to get the country information for the origin airport\n",
        "origin_df = pd.merge(transactions_df, locations_df[['AirportCode', 'CountryName']],\n",
        "                     left_on='OriginAirportCode', right_on='AirportCode', suffixes=('_origin', '_origin_country'))\n",
        "\n",
        "# Merge again to get the country information for the destination airport\n",
        "destination_df = pd.merge(origin_df, locations_df[['AirportCode', 'CountryName']],\n",
        "                           left_on='DestinationAirportCode', right_on='AirportCode', suffixes=('_origin', '_destination_country'))\n",
        "\n",
        "# Check the column names to confirm the country columns\n",
        "print(destination_df.columns)\n",
        "\n",
        "# Rename columns to make sure they are clear and consistent\n",
        "destination_df.rename(columns={'CountryName_origin_country': 'CountryName_origin',\n",
        "                               'CountryName_destination_country': 'CountryName_destination'}, inplace=True)\n",
        "\n",
        "# Classify as Domestic or International\n",
        "destination_df['TransactionType'] = destination_df.apply(\n",
        "    lambda x: 'Domestic' if x['CountryName_origin'] == x['CountryName_destination'] else 'International',\n",
        "    axis=1)\n",
        "\n",
        "# Count Domestic and International transactions\n",
        "transaction_split = destination_df['TransactionType'].value_counts()\n",
        "\n",
        "# Display the result\n",
        "print(transaction_split)\n"
      ],
      "metadata": {
        "colab": {
          "base_uri": "https://localhost:8080/"
        },
        "id": "8MQFFja0OaWd",
        "executionInfo": {
          "status": "ok",
          "timestamp": 1734023257205,
          "user_tz": -60,
          "elapsed": 1227,
          "user": {
            "displayName": "",
            "userId": ""
          }
        },
        "outputId": "37f075dc-18ab-4b30-c7ea-e0e1da103eb5"
      },
      "execution_count": 120,
      "outputs": [
        {
          "output_type": "stream",
          "name": "stdout",
          "text": [
            "Index(['UniqueId', 'TransactionDateUTC', 'Itinerary', 'OriginAirportCode',\n",
            "       'DestinationAirportCode', 'OneWayOrReturn', 'Segment',\n",
            "       'AirportCode_origin', 'CountryName_origin',\n",
            "       'AirportCode_destination_country', 'CountryName_destination_country'],\n",
            "      dtype='object')\n",
            "TransactionType\n",
            "International    48001\n",
            "Domestic          5923\n",
            "Name: count, dtype: int64\n"
          ]
        }
      ]
    },
    {
      "cell_type": "code",
      "source": [
        "\n",
        "# Create a DataFrame for the split to make it easier for Seaborn to work with\n",
        "split_df = transaction_split.reset_index()\n",
        "split_df.columns = ['TransactionType', 'Count']\n",
        "\n",
        "# Set up the Seaborn style and plot the barplot\n",
        "sns.set(style=\"whitegrid\")\n",
        "plt.figure(figsize=(8, 6))\n",
        "\n",
        "# Create a bar plot\n",
        "sns.barplot(x='TransactionType', y='Count', data=split_df, palette='viridis')\n",
        "\n",
        "# Add title and labels\n",
        "plt.title('Split Between Domestic and International Transactions', fontsize=16)\n",
        "plt.xlabel('Transaction Type', fontsize=12)\n",
        "plt.ylabel('Number of Transactions', fontsize=12)\n",
        "\n",
        "# Show the plot\n",
        "plt.show()\n"
      ],
      "metadata": {
        "colab": {
          "base_uri": "https://localhost:8080/",
          "height": 667
        },
        "id": "JMWDRRjvQcoD",
        "executionInfo": {
          "status": "ok",
          "timestamp": 1734023259074,
          "user_tz": -60,
          "elapsed": 325,
          "user": {
            "displayName": "",
            "userId": ""
          }
        },
        "outputId": "a10e3903-0583-429d-a565-92892fc80913"
      },
      "execution_count": 121,
      "outputs": [
        {
          "output_type": "stream",
          "name": "stderr",
          "text": [
            "<ipython-input-121-fd9529d32900>:10: FutureWarning: \n",
            "\n",
            "Passing `palette` without assigning `hue` is deprecated and will be removed in v0.14.0. Assign the `x` variable to `hue` and set `legend=False` for the same effect.\n",
            "\n",
            "  sns.barplot(x='TransactionType', y='Count', data=split_df, palette='viridis')\n"
          ]
        },
        {
          "output_type": "display_data",
          "data": {
            "text/plain": [
              "<Figure size 800x600 with 1 Axes>"
            ],
            "image/png": "[encoded data removed]"
          },
          "metadata": {}
        }
      ]
    },
    {
      "cell_type": "markdown",
      "source": [
        "### ***Requirement:*** What's the distribution of number of segments included in transactions?\n",
        "*Count the number of segments for each transaction by extracting the length of that array.*\n",
        "\n"
      ],
      "metadata": {
        "id": "tpdHZ7qfsp1q"
      }
    },
    {
      "cell_type": "code",
      "source": [
        "# Calculate the number of segments for each transaction by getting the length of the 'Segments' list\n",
        "transactions_df['NumSegments'] = transactions_df['Segment'].apply(len)\n",
        "\n",
        "# Check the first few rows to ensure the new 'NumSegments' column is correct\n",
        "print(transactions_df[['Segment', 'NumSegments']].head())\n",
        "\n",
        "# Set up the Seaborn style and plot the distribution\n",
        "sns.set(style=\"whitegrid\")\n",
        "plt.figure(figsize=(10, 6))\n",
        "\n",
        "# Create a histogram of the number of segments\n",
        "sns.histplot(transactions_df['NumSegments'], kde=True, bins=30, color='blue')\n",
        "\n",
        "# Add title and labels\n",
        "plt.title('Distribution of Number of Segments in Transactions', fontsize=16)\n",
        "plt.xlabel('Number of Segments', fontsize=12)\n",
        "plt.ylabel('Frequency', fontsize=12)\n",
        "\n",
        "# Show the plot\n",
        "plt.show()"
      ],
      "metadata": {
        "colab": {
          "base_uri": "https://localhost:8080/",
          "height": 686
        },
        "id": "l1owRD0iSRli",
        "executionInfo": {
          "status": "ok",
          "timestamp": 1734023263494,
          "user_tz": -60,
          "elapsed": 937,
          "user": {
            "displayName": "",
            "userId": ""
          }
        },
        "outputId": "6aa0770e-6950-430c-f96e-27bc07dfdb04"
      },
      "execution_count": 122,
      "outputs": [
        {
          "output_type": "stream",
          "name": "stdout",
          "text": [
            "                                             Segment  NumSegments\n",
            "0  [{'DepartureAirportCode': 'LHR', 'ArrivalAirpo...            3\n",
            "1  [{'DepartureAirportCode': 'CDG', 'ArrivalAirpo...            5\n",
            "2  [{'DepartureAirportCode': 'IKT', 'ArrivalAirpo...            3\n",
            "3  [{'DepartureAirportCode': 'MEL', 'ArrivalAirpo...            5\n",
            "4  [{'DepartureAirportCode': 'GVA', 'ArrivalAirpo...            3\n"
          ]
        },
        {
          "output_type": "display_data",
          "data": {
            "text/plain": [
              "<Figure size 1000x600 with 1 Axes>"
            ],
            "image/png": "[encoded data removed]"
          },
          "metadata": {}
        }
      ]
    },
    {
      "cell_type": "markdown",
      "source": [
        "## ***Direct vs. Connecting Flights***"
      ],
      "metadata": {
        "id": "hNV8D1dZtzD5"
      }
    },
    {
      "cell_type": "code",
      "source": [
        "# Create a new column 'FlightType' based on the length of 'Segments'\n",
        "transactions_df['FlightType'] = transactions_df['Segment'].apply(lambda x: 'Direct' if len(x) == 1 else 'Connecting')\n",
        "\n",
        "# Group by FlightType and count the number of flights\n",
        "flight_type_counts = transactions_df.groupby('FlightType').size().reset_index(name='NumFlights')\n",
        "print(flight_type_counts)\n"
      ],
      "metadata": {
        "colab": {
          "base_uri": "https://localhost:8080/"
        },
        "id": "TYUQZDVMVKZ9",
        "executionInfo": {
          "status": "ok",
          "timestamp": 1734023274880,
          "user_tz": -60,
          "elapsed": 67,
          "user": {
            "displayName": "",
            "userId": ""
          }
        },
        "outputId": "cb8cc0a6-26a8-4118-c2a7-c51018aab4d4"
      },
      "execution_count": 123,
      "outputs": [
        {
          "output_type": "stream",
          "name": "stdout",
          "text": [
            "   FlightType  NumFlights\n",
            "0  Connecting       44425\n",
            "1      Direct        9501\n"
          ]
        }
      ]
    },
    {
      "cell_type": "code",
      "source": [
        "sns.set(style=\"whitegrid\")\n",
        "plt.figure(figsize=(8, 6))\n",
        "\n",
        "# Create a pie chart\n",
        "plt.pie(flight_type_counts['NumFlights'], labels=flight_type_counts['FlightType'], autopct='%1.1f%%',\n",
        "        colors=sns.color_palette('viridis', len(flight_type_counts)), startangle=90)\n",
        "\n",
        "# Add title\n",
        "plt.title('Flight Type Distribution (Direct vs Connecting)', fontsize=16)\n",
        "\n",
        "# Show the plot\n",
        "plt.show()\n"
      ],
      "metadata": {
        "colab": {
          "base_uri": "https://localhost:8080/",
          "height": 523
        },
        "id": "BnIUe_ZwuAs4",
        "executionInfo": {
          "status": "ok",
          "timestamp": 1734023277250,
          "user_tz": -60,
          "elapsed": 400,
          "user": {
            "displayName": "",
            "userId": ""
          }
        },
        "outputId": "2933a66d-b45f-49fd-8ca2-4e3977d959fd"
      },
      "execution_count": 124,
      "outputs": [
        {
          "output_type": "display_data",
          "data": {
            "text/plain": [
              "<Figure size 800x600 with 1 Axes>"
            ],
            "image/png": "[encoded data removed]"
          },
          "metadata": {}
        }
      ]
    },
    {
      "cell_type": "markdown",
      "source": [
        "## ***Monthly Transaction Trends***"
      ],
      "metadata": {
        "id": "MzSD-I18wIEW"
      }
    },
    {
      "cell_type": "code",
      "source": [
        "# Convert TransactionDateUTC to datetime format if not already\n",
        "transactions_df['TransactionDateUTC'] = pd.to_datetime(transactions_df['TransactionDateUTC'], errors='coerce')\n",
        "\n",
        "# Extract month from TransactionDateUTC\n",
        "transactions_df['Months'] = transactions_df['TransactionDateUTC'].dt.month\n",
        "\n",
        "# Group by month and count the number of transactions\n",
        "monthly_trends = transactions_df.groupby('Months').size().reset_index(name='NumTransactions')\n",
        "\n",
        "# Convert month numbers to month names\n",
        "monthly_trends['Month'] = monthly_trends['Months'].apply(lambda x: pd.to_datetime(f'2021-{int(x)}-01').strftime('%B'))\n",
        "\n",
        "# Ensure NumTransactions is of integer type (convert from float if necessary)\n",
        "monthly_trends['NumTransactions'] = monthly_trends['NumTransactions'].astype(int)\n",
        "\n",
        "# Print the result with month names\n",
        "print(monthly_trends[['Month', 'NumTransactions']])\n"
      ],
      "metadata": {
        "colab": {
          "base_uri": "https://localhost:8080/"
        },
        "id": "8QRF9jAMvOZI",
        "executionInfo": {
          "status": "ok",
          "timestamp": 1734023656809,
          "user_tz": -60,
          "elapsed": 187,
          "user": {
            "displayName": "",
            "userId": ""
          }
        },
        "outputId": "dc218999-fac3-4c74-95cd-dddda71e1915"
      },
      "execution_count": 134,
      "outputs": [
        {
          "output_type": "stream",
          "name": "stdout",
          "text": [
            "        Month  NumTransactions\n",
            "0     January             5246\n",
            "1    February             4970\n",
            "2       March             5374\n",
            "3       April             4695\n",
            "4         May             5135\n",
            "5        June             4084\n",
            "6        July             4136\n",
            "7      August             3968\n",
            "8   September             4181\n",
            "9     October             4196\n",
            "10   November             3917\n",
            "11   December             3450\n"
          ]
        }
      ]
    },
    {
      "cell_type": "code",
      "source": [
        "# Pivot the data for heatmap representation (create a 1D heatmap of months)\n",
        "monthly_pivot = monthly_trends.pivot(index='Month', columns='Months', values='NumTransactions')\n",
        "\n",
        "# Create a heatmap using seaborn\n",
        "plt.figure(figsize=(10, 6))\n",
        "sns.heatmap(monthly_pivot.T, cmap='YlGnBu', fmt=\"f\", cbar=True, linewidths=1)\n",
        "\n",
        "# Add labels and title\n",
        "plt.title('Monthly Transaction Distribution', fontsize=16)\n",
        "plt.xlabel('Month', fontsize=12)\n",
        "plt.ylabel('Number of Transactions', fontsize=12)\n",
        "\n",
        "# Show the plot\n",
        "plt.show()\n"
      ],
      "metadata": {
        "colab": {
          "base_uri": "https://localhost:8080/",
          "height": 645
        },
        "id": "rwYlwyS8zuuG",
        "executionInfo": {
          "status": "ok",
          "timestamp": 1734023818450,
          "user_tz": -60,
          "elapsed": 1074,
          "user": {
            "displayName": "",
            "userId": ""
          }
        },
        "outputId": "aadb2c3e-0ef7-4d32-ca12-da0fb50abc1b"
      },
      "execution_count": 138,
      "outputs": [
        {
          "output_type": "display_data",
          "data": {
            "text/plain": [
              "<Figure size 1000x600 with 2 Axes>"
            ],
            "image/png": "[encoded data removed]"
          },
          "metadata": {}
        }
      ]
    },
    {
      "cell_type": "code",
      "source": [],
      "metadata": {
        "id": "ejfM4syn2u8Z"
      },
      "execution_count": null,
      "outputs": []
    }
  ]
}